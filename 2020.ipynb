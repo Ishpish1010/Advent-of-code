{
 "cells": [
  {
   "cell_type": "code",
   "execution_count": 3,
   "metadata": {},
   "outputs": [
    {
     "name": "stdout",
     "output_type": "stream",
     "text": [
      "257778836\n"
     ]
    }
   ],
   "source": [
    "f = open(\"d1data.txt\",\"r\")\n",
    "data = []\n",
    "for line in f:\n",
    "    data.append(int(line.strip()))\n",
    "data.sort()\n",
    "l = 0\n",
    "h = -1\n",
    "\n",
    "minval = 2020-data[0]-data[1]\n",
    "\n",
    "while True:\n",
    "    if data[h] > minval:\n",
    "        data.pop()\n",
    "    else:\n",
    "        break\n",
    "\n",
    "for i in range(len(data)):\n",
    "    for j in range(len(data)-1,1,-1):\n",
    "        for k in range(i+1,j):\n",
    "            if data[i]+data[j]+data[k] == 2020:\n",
    "                print(data[i]*data[j]*data[k])\n",
    "        \n"
   ]
  },
  {
   "cell_type": "code",
   "execution_count": 2,
   "metadata": {},
   "outputs": [
    {
     "name": "stdout",
     "output_type": "stream",
     "text": [
      "398 562\n"
     ]
    }
   ],
   "source": [
    "f = open(\"d2data.txt\",\"r\")\n",
    "count = 0\n",
    "c2 = 0\n",
    "tot = 0\n",
    "for line in f:\n",
    "    a = line.split(\":\")\n",
    "    l,password = a\n",
    "    password = password.strip()\n",
    "    a = l.split(\" \")\n",
    "    l,letter = a\n",
    "    a = l.split(\"-\")\n",
    "    low,high = a\n",
    "    low = int(low)\n",
    "    high = int(high)\n",
    "    \n",
    "    occ = 0\n",
    "    \n",
    "    for char in password:\n",
    "        if char == letter:\n",
    "            occ += 1\n",
    "    if (occ >= low and occ <= high):\n",
    "        count += 1\n",
    "        \n",
    "    if(password[low-1] != password[high-1]):\n",
    "        if(password[low-1] == letter or password[high-1] == letter):\n",
    "            c2 += 1\n",
    "    \n",
    "print(count,c2)\n",
    "f.close()"
   ]
  },
  {
   "cell_type": "markdown",
   "metadata": {},
   "source": [
    "day 3"
   ]
  },
  {
   "cell_type": "code",
   "execution_count": 4,
   "metadata": {},
   "outputs": [
    {
     "name": "stdout",
     "output_type": "stream",
     "text": [
      "211\n",
      "3584591857\n"
     ]
    }
   ],
   "source": [
    "f = open(\"d3data.txt\",\"r\")\n",
    "#f = open(\"test.txt\")\n",
    "\n",
    "grid = [[char for char in line.strip() ]for line in f]\n",
    "#print(grid)\n",
    "#print(len(grid[0]))\n",
    "count = [0,0,0,0,0]\n",
    "pairs = [(1,1),(3,1),(5,1),(7,1),(1,2)]\n",
    "for i in range(len(pairs)):\n",
    "    h = 0\n",
    "    w = 0\n",
    "    while h < len(grid):\n",
    "        #print(h,w,grid[h][w])\n",
    "        if(grid[h][w] == \"#\"):\n",
    "            count[i] += 1\n",
    "        h += pairs[i][1]\n",
    "        w += pairs[i][0]\n",
    "        if w >= len(grid[0]):\n",
    "            w -= (len(grid[0]))\n",
    "            \n",
    "print(count[1])\n",
    "total = 1\n",
    "for i in range(len(count)):\n",
    "    total = total*count[i]\n",
    "print(total)\n",
    "f.close()"
   ]
  },
  {
   "cell_type": "markdown",
   "metadata": {},
   "source": [
    "day 4"
   ]
  },
  {
   "cell_type": "code",
   "execution_count": 4,
   "metadata": {},
   "outputs": [
    {
     "name": "stdout",
     "output_type": "stream",
     "text": [
      "109\n"
     ]
    }
   ],
   "source": [
    "f = open(\"d4data.txt\",\"r\")\n",
    "#f = open(\"test.txt\",\"r\")\n",
    "\n",
    "class passport:\n",
    "    \n",
    "    def __init__(self):\n",
    "        self.byr = None\n",
    "        self.iyr = None\n",
    "        self.eyr = None\n",
    "        self.hgt = None\n",
    "        self.hcl = None\n",
    "        self.ecl = None\n",
    "        self.pid = None\n",
    "        self.cid = None\n",
    "        \n",
    "    def check(self):\n",
    "        if(self.byr and self.iyr and self.eyr and self.hgt and self.hcl and self.ecl and self.pid):\n",
    "            #print(\"valid  \",self.byr,self.iyr,self.eyr , self.hgt , self.hcl , self.ecl , self.pid)\n",
    "            return 1\n",
    "        #print(\"invalid\",self.byr,self.iyr,self.eyr,self.hgt,self.hcl,self.ecl,self.pid)\n",
    "        return 0\n",
    "    \n",
    "    def add(self, string):\n",
    "        cd,val = string.strip().split(\":\")\n",
    "        \n",
    "        if cd == \"byr\":\n",
    "            val = int(val)\n",
    "            if ((val >= 1920) and (val <= 2002)):\n",
    "                self.byr= val\n",
    "        elif cd == \"iyr\":\n",
    "            val = int(val)\n",
    "            if((val >= 2010) and (val <= 2020)):\n",
    "                self.iyr = val\n",
    "        elif cd == \"eyr\":\n",
    "            val = int(val)\n",
    "            if((val >= 2020) and (val <= 2030)):\n",
    "                self.eyr = val\n",
    "        elif cd == \"hgt\":\n",
    "            num = \"\"\n",
    "            tp = \"\"\n",
    "            for letter in val:\n",
    "                if letter.isalpha():\n",
    "                    tp += letter\n",
    "                else:\n",
    "                    num += letter\n",
    "            num = int(num)\n",
    "            if tp == \"cm\":\n",
    "                if ((num >= 150) and (num <= 193)):\n",
    "                    self.hgt = val\n",
    "            elif(tp == \"in\"):\n",
    "                if ((num >= 59) and (num <= 76)):\n",
    "                    self.hgt = val       \n",
    "        elif cd == \"hcl\":\n",
    "            if len(val) != 7:\n",
    "                return\n",
    "            if val[0] == \"#\":\n",
    "                for letter in val[1:]:\n",
    "                    if letter not in \"0123456789abcdef\":\n",
    "                        return\n",
    "                self.hcl = val\n",
    "        elif cd == \"ecl\":\n",
    "            if val in [\"amb\",\"blu\",\"brn\",\"gry\",\"grn\",\"hzl\",\"oth\"]:\n",
    "                self.ecl = val\n",
    "        elif cd == \"pid\":\n",
    "            if len(val) == 9:\n",
    "                self.pid = val\n",
    "        elif cd == \"cid\":\n",
    "            self.cid = val\n",
    "        else:\n",
    "            pass\n",
    "    \n",
    "    \n",
    "count = 0\n",
    "pp = passport()\n",
    "for line in f:\n",
    "    if line == \"\\n\":\n",
    "        val = pp.check()\n",
    "        if(val):\n",
    "            count += 1\n",
    "        pp = passport()\n",
    "    else:\n",
    "        for string in line.strip().split():\n",
    "            pp.add(string)\n",
    "\n",
    "print(count)\n",
    "f.close()"
   ]
  },
  {
   "cell_type": "markdown",
   "metadata": {},
   "source": [
    "day 5"
   ]
  },
  {
   "cell_type": "code",
   "execution_count": 6,
   "metadata": {},
   "outputs": [
    {
     "name": "stdout",
     "output_type": "stream",
     "text": [
      "883\n",
      "532\n"
     ]
    }
   ],
   "source": [
    "file = open(\"d5data.txt\")\n",
    "#file = open(\"test.txt\")\n",
    "vals = []\n",
    "for line in file:\n",
    "    rmin =0\n",
    "    rmax = 127\n",
    "    rh = 64\n",
    "    cmin = 0\n",
    "    cmax = 7\n",
    "    ch = 4\n",
    "    for char in line.strip():\n",
    "\n",
    "        if char == \"F\":\n",
    "            rmax -= rh\n",
    "            rh = rh//2\n",
    "        elif char == \"B\":\n",
    "            rmin += rh\n",
    "            rh = rh//2\n",
    "        elif char == \"L\":\n",
    "            cmax -= ch\n",
    "            ch = ch//2\n",
    "        else:\n",
    "            cmin += ch\n",
    "            ch = ch//2\n",
    "    val = rmin*8 + cmin\n",
    "    vals.append(val)\n",
    "vals.sort()\n",
    "print(max(vals))\n",
    "for i in range(len(vals)-2):\n",
    "    if vals[i+1]-vals[i] != 1:\n",
    "        print(vals[i]+1)\n",
    "        break\n",
    "file.close()"
   ]
  },
  {
   "cell_type": "markdown",
   "metadata": {},
   "source": [
    "day 6"
   ]
  },
  {
   "cell_type": "code",
   "execution_count": 7,
   "metadata": {},
   "outputs": [
    {
     "name": "stdout",
     "output_type": "stream",
     "text": [
      "6930\n",
      "3585\n"
     ]
    }
   ],
   "source": [
    "file = open(\"d6data.txt\")\n",
    "#file = open(\"test.txt\")\n",
    "total = 0\n",
    "group = set()\n",
    "for line in file:\n",
    "    \n",
    "    if line == \"\\n\":\n",
    "        total += len(group)\n",
    "        group = set()\n",
    "    else:\n",
    "        for char in line.strip():\n",
    "            group.add(char)\n",
    "total += len(group)\n",
    "print(total)\n",
    "\n",
    "file.close()\n",
    "\n",
    "file = open(\"d6data.txt\")\n",
    "#file = open(\"test.txt\")\n",
    "total = 0\n",
    "group = []\n",
    "for line in file:\n",
    "    \n",
    "    if line == \"\\n\":\n",
    "        for char in group[0]:\n",
    "            m = 1\n",
    "            for member in group:\n",
    "                if char not in member:\n",
    "                    m = 0\n",
    "                    break\n",
    "            total += m\n",
    "        group = []\n",
    "            \n",
    "    else:\n",
    "        group.append(line.strip())\n",
    "for char in group[0]:\n",
    "    m = 1\n",
    "    for member in group:\n",
    "        if char not in member:\n",
    "            m = 0\n",
    "            break\n",
    "    total += m\n",
    "print(total)\n",
    "\n",
    "file.close()\n",
    "\n"
   ]
  },
  {
   "cell_type": "markdown",
   "metadata": {},
   "source": [
    "day 7"
   ]
  },
  {
   "cell_type": "code",
   "execution_count": 8,
   "metadata": {},
   "outputs": [
    {
     "name": "stdout",
     "output_type": "stream",
     "text": [
      "332\n",
      "10875\n"
     ]
    }
   ],
   "source": [
    "import re\n",
    "file = open(\"d7data.txt\")\n",
    "#file = open(\"test.txt\")\n",
    "colors = set()\n",
    "pairs = {}\n",
    "for line in file:\n",
    "    #print(colors)\n",
    "    words = line.strip().split()\n",
    "    holder = \"\"\n",
    "    for i in range(len(words)):\n",
    "        tmp = \"\"\n",
    "        count = 0\n",
    "        if \"bag\" in words[i]:\n",
    "            j = i-1\n",
    "            while j>0:\n",
    "                if words[j].isnumeric():\n",
    "                    count = int(words[j])\n",
    "                    break\n",
    "                if words[j] == \"other\":\n",
    "                    break\n",
    "                if tmp != \"\":\n",
    "                    tmp = words[j]+\" \"+tmp\n",
    "                else:\n",
    "                    tmp = words[j]\n",
    "                j -= 1\n",
    "            if j == 0:\n",
    "                tmp = words[j]+\" \"+tmp\n",
    "        \n",
    "        if holder == \"\":\n",
    "            holder = tmp\n",
    "            #print(holder)\n",
    "            if holder not in pairs.keys():\n",
    "                pairs[holder] = []\n",
    "        else:\n",
    "            if tmp != \"\":\n",
    "                pairs[holder].append([tmp,count])\n",
    "        if tmp != \"\":\n",
    "            colors.add(tmp)\n",
    "\n",
    "mine = \"shiny gold\"\n",
    "canhold = set()\n",
    "tocheck = [\"shiny gold\"]\n",
    "while tocheck != []:\n",
    "    new = []\n",
    "    for mine in tocheck:\n",
    "        for color in colors:\n",
    "            if color not in canhold:\n",
    "                for pair in pairs[color]:\n",
    "                    if mine in pair:\n",
    "                        canhold.add(color)\n",
    "                        new.append(color)\n",
    "        tocheck = new\n",
    "\n",
    "print(len(canhold))\n",
    "\n",
    "def holds(color,data):\n",
    "    pairs = data[color]\n",
    "    if pairs == []:\n",
    "        return 0\n",
    "    counts = []\n",
    "    for pair in pairs:\n",
    "        num = holds(pair[0],data)\n",
    "        counts.append(num*pair[1]+pair[1])\n",
    "    return sum(counts)\n",
    "\n",
    "print(holds(\"shiny gold\",pairs))\n",
    "file.close()"
   ]
  },
  {
   "cell_type": "markdown",
   "metadata": {},
   "source": [
    "day 8"
   ]
  },
  {
   "cell_type": "code",
   "execution_count": 9,
   "metadata": {},
   "outputs": [
    {
     "name": "stdout",
     "output_type": "stream",
     "text": [
      "846\n"
     ]
    }
   ],
   "source": [
    "file = open(\"d8data.txt\")\n",
    "#file = open(\"test.txt\")\n",
    "\n",
    "acc = 0\n",
    "program = [line.strip().split() for line in file]\n",
    "i = 0\n",
    "idxs = []\n",
    "changed = []\n",
    "\n",
    "while True:\n",
    "    c = 0\n",
    "    bad = 0\n",
    "    acc = 0\n",
    "    i = 0\n",
    "    idxs = []\n",
    "    #print(changed)\n",
    "    while i < len(program):\n",
    "        #print(i,loc)\n",
    "        if i in idxs:\n",
    "            #print(\"a\",acc)\n",
    "            bad = 1\n",
    "            break\n",
    "        idxs.append(i)\n",
    "        cmd = program[i][0]\n",
    "        if cmd == \"nop\":\n",
    "            if ((not c) and (i not in changed)):\n",
    "                c = 1\n",
    "                changed.append(i)\n",
    "                val = program[i][1].replace(\"+\",\"\")\n",
    "                val = int(val.strip())\n",
    "                i += val\n",
    "                i -= 1\n",
    "        elif cmd == \"acc\":\n",
    "            val = program[i][1].replace(\"+\",\"\")\n",
    "            val = int(val.strip())\n",
    "            acc += val\n",
    "        elif cmd == \"jmp\":\n",
    "            if ((not c) and (i not in changed)):\n",
    "                c = 1\n",
    "                changed.append(i)\n",
    "            else:    \n",
    "                val = program[i][1].replace(\"+\",\"\")\n",
    "                val = int(val.strip())\n",
    "                i += val\n",
    "                i -= 1\n",
    "        i += 1\n",
    "    if not bad:\n",
    "        break\n",
    "print(acc)\n",
    "    \n",
    "\n",
    "\n",
    "file.close()"
   ]
  },
  {
   "cell_type": "code",
   "execution_count": 13,
   "metadata": {},
   "outputs": [
    {
     "name": "stdout",
     "output_type": "stream",
     "text": [
      "4181056348230\n",
      "32321523\n",
      "974\n"
     ]
    }
   ],
   "source": [
    "file = open(\"d9data.txt\")\n",
    "#file = open(\"test.txt\")\n",
    "preamble = []\n",
    "data = []\n",
    "numbers = []\n",
    "count = 0\n",
    "oc = 0\n",
    "i = 0\n",
    "for line in file:\n",
    "    \n",
    "    val = int(line.strip())\n",
    "    numbers.append(val)\n",
    "    for j in range(len(data)):\n",
    "        data[j]+= val\n",
    "        if data[j] == 32321523:\n",
    "            print(min(numbers[j:])*max(numbers[j:]))\n",
    "    data.append(val)\n",
    "    \n",
    "    if len(preamble) < 25:\n",
    "        preamble.append(val)\n",
    "    else:\n",
    "        for x in preamble:\n",
    "            end = 0\n",
    "            for y in preamble:\n",
    "                if x !=y:\n",
    "                    if val == x+y:\n",
    "                        count += 1\n",
    "                        end = 1\n",
    "                        break                        \n",
    "                        \n",
    "            if end:\n",
    "                break\n",
    "        if count == oc:\n",
    "            print(val)\n",
    "        oc = count\n",
    "        #print(i)\n",
    "        preamble[i] = val\n",
    "        i += 1\n",
    "        i = i%25\n",
    "        #print(i)\n",
    "print(count)\n",
    "  \n",
    "\n",
    "file.close()"
   ]
  },
  {
   "cell_type": "markdown",
   "metadata": {},
   "source": [
    "day 10"
   ]
  },
  {
   "cell_type": "code",
   "execution_count": 16,
   "metadata": {},
   "outputs": [
    {
     "name": "stdout",
     "output_type": "stream",
     "text": [
      "2812\n",
      "386869246296064\n"
     ]
    }
   ],
   "source": [
    "file = open(\"d10data.txt\")\n",
    "#file = open(\"test.txt\")\n",
    "parts = [0]\n",
    "for line in file:\n",
    "    parts.append(int(line.strip()))\n",
    "    \n",
    "parts.sort()\n",
    "parts.append(parts[-1]+3)\n",
    "dif = []\n",
    "req = [0]\n",
    "other = []\n",
    "for i in range((len(parts)-1)):\n",
    "    dif.append(parts[i+1]-parts[i])\n",
    "    if dif[-1] == 3:\n",
    "        if req[-1] != parts[i]:\n",
    "            req.append(parts[i])\n",
    "        req.append(parts[i+1])\n",
    "\n",
    "print(dif.count(1)*(dif.count(3)))\n",
    "\n",
    "\n",
    "\n",
    "total = 1\n",
    "valid = [1,2,4,7]\n",
    "invalid = [0,0,0,1]\n",
    "for i in range(len(req)-1):\n",
    "    low = parts.index(req[i])\n",
    "    high = parts.index(req[i+1])\n",
    "    ssl = high-low-1\n",
    "    #print(high,low,ssl)\n",
    "    if ssl >= len(valid):\n",
    "        while ssl>=len(valid):\n",
    "            invalid.append(valid[-4]+2*invalid[-1])\n",
    "            valid.append(2**len(valid)-invalid[-1])\n",
    "    total *= valid[ssl]\n",
    "             \n",
    "print(total)        \n",
    "\n",
    "#print(len(total))\n",
    "\n",
    "file.close()"
   ]
  },
  {
   "cell_type": "code",
   "execution_count": null,
   "metadata": {},
   "outputs": [],
   "source": [
    "import hashlib as hs\n",
    "line = \"uqwqemis\"\n",
    "num = 1\n",
    "while True:\n",
    "    val = line + str(num)\n",
    "    test = hs.md5(val.encode())\n",
    "    txt = test.hexdigest()\n",
    "    if(txt[0:5] == \"00000\"):\n",
    "        break\n",
    "print(num)"
   ]
  },
  {
   "cell_type": "code",
   "execution_count": null,
   "metadata": {},
   "outputs": [],
   "source": []
  }
 ],
 "metadata": {
  "kernelspec": {
   "display_name": "Python 3",
   "language": "python",
   "name": "python3"
  },
  "language_info": {
   "codemirror_mode": {
    "name": "ipython",
    "version": 3
   },
   "file_extension": ".py",
   "mimetype": "text/x-python",
   "name": "python",
   "nbconvert_exporter": "python",
   "pygments_lexer": "ipython3",
   "version": "3.7.0"
  }
 },
 "nbformat": 4,
 "nbformat_minor": 2
}
